{
  "nbformat": 4,
  "nbformat_minor": 0,
  "metadata": {
    "accelerator": "GPU",
    "colab": {
      "name": "data processing",
      "provenance": [],
      "collapsed_sections": []
    },
    "kernelspec": {
      "display_name": "Python 3",
      "name": "python3"
    },
    "language_info": {
      "name": "python"
    }
  },
  "cells": [
    {
      "cell_type": "code",
      "metadata": {
        "colab": {
          "base_uri": "https://localhost:8080/"
        },
        "id": "5bidfiuVFSxS",
        "outputId": "bfb820cd-fa3c-4e61-d617-f5c0583f1dcc"
      },
      "source": [
        "from google.colab import drive\n",
        "drive.mount('/content/drive')"
      ],
      "execution_count": null,
      "outputs": [
        {
          "output_type": "stream",
          "name": "stdout",
          "text": [
            "Mounted at /content/drive\n"
          ]
        }
      ]
    },
    {
      "cell_type": "code",
      "metadata": {
        "id": "NRMptPICGMNf"
      },
      "source": [
        "import os\n",
        "import glob\n",
        "import pandas as pd\n",
        "import xml.etree.ElementTree as ET"
      ],
      "execution_count": null,
      "outputs": []
    },
    {
      "cell_type": "code",
      "metadata": {
        "colab": {
          "base_uri": "https://localhost:8080/"
        },
        "id": "9YuGWa34GJm7",
        "outputId": "b0605697-d98f-4984-9687-c44f27cd1950"
      },
      "source": [
        "import os\n",
        "import glob\n",
        "import pandas as pd\n",
        "import xml.etree.ElementTree as ET\n",
        "\n",
        "def xml_to_csv(path):\n",
        "    xml_list = []\n",
        "    for xml_file in glob.glob(path + '/*.xml'):\n",
        "        tree = ET.parse(xml_file)\n",
        "        root = tree.getroot()\n",
        "        for member in root.findall('object'):\n",
        "            bbx = member.find('bndbox')\n",
        "            xmin = int(bbx.find('xmin').text)\n",
        "            ymin = int(bbx.find('ymin').text)\n",
        "            xmax = int(bbx.find('xmax').text)\n",
        "            ymax = int(bbx.find('ymax').text)\n",
        "            label = member.find('name').text\n",
        "\n",
        "            value = (root.find('filename').text,\n",
        "                     int(root.find('size')[0].text),\n",
        "                     int(root.find('size')[1].text),\n",
        "                     label,\n",
        "                     xmin,\n",
        "                     ymin,\n",
        "                     xmax,\n",
        "                     ymax\n",
        "                     )\n",
        "            xml_list.append(value)\n",
        "    column_name = ['filename', 'width', 'height',\n",
        "                   'class', 'xmin', 'ymin', 'xmax', 'ymax']\n",
        "    xml_df = pd.DataFrame(xml_list, columns=column_name)\n",
        "    return xml_df\n",
        "\n",
        "\n",
        "def main():\n",
        "    datasets = ['train']\n",
        "    for ds in datasets:\n",
        "        image_path = os.path.join(os.getcwd(),'drive/MyDrive/train/India/annotations/xmls')\n",
        "        xml_df = xml_to_csv(image_path)\n",
        "        xml_df.to_csv('labels_{}.csv'.format(ds), index=None)\n",
        "        print('Successfully converted xml to csv.')\n",
        "        !cp labels_train.csv \"/content/drive/MyDrive\"\n",
        "\n",
        "\n",
        "main()"
      ],
      "execution_count": null,
      "outputs": [
        {
          "output_type": "stream",
          "name": "stdout",
          "text": [
            "Successfully converted xml to csv.\n"
          ]
        }
      ]
    },
    {
      "cell_type": "code",
      "metadata": {
        "id": "Yv_McCDMfZQF"
      },
      "source": [
        "import numpy as np\n",
        "import pandas as pd\n",
        "import cv2\n",
        "from PIL import Image\n",
        "from tqdm import tqdm"
      ],
      "execution_count": null,
      "outputs": []
    },
    {
      "cell_type": "code",
      "metadata": {
        "colab": {
          "base_uri": "https://localhost:8080/",
          "height": 180
        },
        "id": "nK7WiAImfbXr",
        "outputId": "e80c4698-6328-4bd2-8d1a-14a00ae3a3db"
      },
      "source": [
        "df = pd.read_csv('drive/MyDrive/dataframe.csv')\n",
        "df.head()"
      ],
      "execution_count": null,
      "outputs": [
        {
          "output_type": "error",
          "ename": "AttributeError",
          "evalue": "ignored",
          "traceback": [
            "\u001b[0;31m---------------------------------------------------------------------------\u001b[0m",
            "\u001b[0;31mAttributeError\u001b[0m                            Traceback (most recent call last)",
            "\u001b[0;32m<ipython-input-56-963bcf591923>\u001b[0m in \u001b[0;36m<module>\u001b[0;34m()\u001b[0m\n\u001b[1;32m      1\u001b[0m \u001b[0;31m#f = pd.read_csv('drive/MyDrive/dataframe.csv')\u001b[0m\u001b[0;34m\u001b[0m\u001b[0;34m\u001b[0m\u001b[0;34m\u001b[0m\u001b[0m\n\u001b[0;32m----> 2\u001b[0;31m \u001b[0mxml_df\u001b[0m\u001b[0;34m.\u001b[0m\u001b[0mhead\u001b[0m\u001b[0;34m(\u001b[0m\u001b[0;34m)\u001b[0m\u001b[0;34m\u001b[0m\u001b[0;34m\u001b[0m\u001b[0m\n\u001b[0m",
            "\u001b[0;31mAttributeError\u001b[0m: 'list' object has no attribute 'head'"
          ]
        }
      ]
    },
    {
      "cell_type": "code",
      "metadata": {
        "colab": {
          "base_uri": "https://localhost:8080/"
        },
        "id": "C5Hx4WmEfv1F",
        "outputId": "5361ca7c-4ae4-431e-987e-ab793428bc6d"
      },
      "source": [
        "uniqueImages = open('uniqueImg.txt','w')\n",
        "\n",
        "imgs = df['filename'].unique()\n",
        "for im in tqdm(imgs):\n",
        "  uniqueImages.write(str(im))\n",
        "  uniqueImages.write('\\n')\n",
        "uniqueImages.close()"
      ],
      "execution_count": null,
      "outputs": [
        {
          "name": "stderr",
          "output_type": "stream",
          "text": [
            "100%|██████████| 3785/3785 [00:00<00:00, 490512.61it/s]\n"
          ]
        }
      ]
    },
    {
      "cell_type": "code",
      "metadata": {
        "colab": {
          "base_uri": "https://localhost:8080/"
        },
        "id": "pKEECwsAgFkk",
        "outputId": "8f855be8-0f6e-455c-9e3d-96267953f154"
      },
      "source": [
        "\n",
        "def getFileCounts(folder):\n",
        "    files = os.listdir(folder)\n",
        "    count = 0\n",
        "    for file in files:\n",
        "        count += 1\n",
        "    return count\n",
        "\n",
        "def removeUnwantedFiles(fileList,folder):\n",
        "    #this function removes the files in fileList from folder:\n",
        "    \n",
        "    with open(fileList, 'r') as f:\n",
        "        for line in f:\n",
        "            fileName = line.rstrip()\n",
        "            print(fileName)\n",
        "            path = folder + '/' + fileName\n",
        "            os.remove(path)\n",
        "        f.close()\n",
        "\n",
        "def getFileName(folder):\n",
        "    allImg = open('allImg.txt','w')\n",
        "    files = os.listdir(folder)\n",
        "    for file in files:\n",
        "        allImg.write(str(file))\n",
        "        allImg.write('\\n')\n",
        "    allImg.close()\n",
        "\n",
        "\n",
        "def getOutliers(allFiles, uniqueFiles, folder):\n",
        "    allImages = []\n",
        "    imgToKeep = []\n",
        "    imgToDel = []\n",
        "    with open(allFiles, 'r') as f:\n",
        "        for line in f:\n",
        "            fileName = line.rstrip()\n",
        "            allImages.append(fileName)\n",
        "        f.close()\n",
        "    \n",
        "    with open(uniqueFiles, 'r') as f:\n",
        "        for line in f:\n",
        "            fileName = line.rstrip()\n",
        "            imgToKeep.append(fileName)\n",
        "        f.close()   \n",
        "\n",
        "    for img in allImages:\n",
        "        if img not in imgToKeep:\n",
        "            imgToDel.append(img)\n",
        "    print(len(imgToDel))\n",
        "\n",
        "    fileDel = open('imgToDel.txt','w')\n",
        "    files = os.listdir(folder)\n",
        "    for img in imgToDel:\n",
        "        fileDel.write(str(img))\n",
        "        fileDel.write('\\n')\n",
        "    fileDel.close()\n",
        "\n",
        "#converting csv format to yolo format:\n",
        "def csv_to_yolo(df):\n",
        "  print(os.getcwd())\n",
        "  dir = 'drive/MyDrive/darknet/data/labels/'\n",
        "  labelsUsed = []\n",
        "  labelsRepeat = []\n",
        "  #D10,D40,D00,D20,D44,D50\n",
        "  classIndex = {'D10':0, 'D40':1, 'D00':2, 'D20':3, 'D44':4, 'D50':5, 'D11':6, 'D01':7, 'D43':8, 'D0w0':9}\n",
        "  for i in range(len(df)):\n",
        "    fName = df['filename'].values[i].split('.')[0]\n",
        "    if fName not  in labelsUsed:\n",
        "      label = open(dir + str(fName) + '.txt', 'w')\n",
        "      class_ = classIndex[df['class'].values[i]]\n",
        "      image_width = df['width'].values[i]\n",
        "      image_height = df['height'].values[i]\n",
        "      xmin = df['xmin'].values[i]\n",
        "      ymin = df['ymin'].values[i]\n",
        "      xmax = df['xmax'].values[i]\n",
        "      ymax = df['ymax'].values[i]\n",
        "\n",
        "      x_coord = (xmin + xmax) / 2 / image_width\n",
        "      y_coord = (ymin + ymax) / 2 / image_height\n",
        "      shape_width = (xmax - xmin) / image_width\n",
        "      shape_height = (ymax - ymin) / image_height\n",
        "\n",
        "      label.write(str(class_) + ' ' + str(x_coord) + ' ' + str(y_coord) + ' ' + str(shape_width) + ' ' + str(shape_height))\n",
        "      label.write('\\n')\n",
        "      label.close()\n",
        "      labelsUsed.append(fName)\n",
        "    else:\n",
        "      label = open(dir + str(fName) + '.txt', 'a')\n",
        "      class_ = classIndex[df['class'].values[i]]\n",
        "      image_width = df['width'].values[i]\n",
        "      image_height = df['height'].values[i]\n",
        "      xmin = df['xmin'].values[i]\n",
        "      ymin = df['ymin'].values[i]\n",
        "      xmax = df['xmax'].values[i]\n",
        "      ymax = df['ymax'].values[i]\n",
        "\n",
        "      x_coord = (xmin + xmax) / 2 / image_width\n",
        "      y_coord = (ymin + ymax) / 2 / image_height\n",
        "      shape_width = (xmax - xmin) / image_width\n",
        "      shape_height = (ymax - ymin) / image_height\n",
        "\n",
        "      label.write(str(class_) + ' ' + str(x_coord) + ' ' + str(y_coord) + ' ' + str(shape_width) + ' ' + str(shape_height))\n",
        "      label.write('\\n')\n",
        "      #label.read()\n",
        "      label.close()\n",
        "      \n",
        "  #return labelsUsed, labelsRepeat\n",
        "\n",
        "def trainTestSplit(uniqueImg):\n",
        "    #listing directories for all the images in a txt file for train and validation set: \n",
        "    listImages = []\n",
        "    with open(uniqueImg, 'r') as f:\n",
        "        for line in f:\n",
        "            fileName = line.rstrip()\n",
        "            listImages.append(fileName)\n",
        "        f.close()\n",
        "    #listImages = df['filename'].values\n",
        "    totalImages = len(listImages)\n",
        "    print(totalImages)\n",
        "    trainImages = int(0.8*totalImages)\n",
        "    valImages = totalImages - trainImages\n",
        "\n",
        "    trainFile = open('train.txt','w')\n",
        "    valFile = open('val.txt','w')\n",
        "\n",
        "    dir = 'data/images/'\n",
        "    for i in range(trainImages):\n",
        "        trainFile.write(dir + listImages[i])\n",
        "        trainFile.write('\\n')\n",
        "\n",
        "    for i in range(valImages):\n",
        "        valFile.write(dir + listImages[trainImages+i])\n",
        "        valFile.write('\\n')\n",
        "\n",
        "    trainFile.close()\n",
        "    valFile.close()\n",
        "\n",
        "\n",
        "#df = pd.read_csv('dataframe.csv')\n",
        "csv_to_yolo(df)\n",
        "\n",
        "#trainTestSplit('uniqueImg.txt')\n",
        "#numImages = getFileCounts('darknet/data/images')\n",
        "#numLabels = getFileCounts('darknet/data/labels')\n",
        "#print('Total images : ',numImages)\n",
        "#print('Total labels : ',numLabels)\n",
        "#getFileName('drive/MyDrive/darknet/data/images')\n",
        "#getOutliers('allImg.txt', 'uniqueImg.txt', 'drive/MyDrive/darknet/data/images')\n",
        "#removeUnwantedFiles('imgToDel.txt', 'drive/MyDrive/darknet/data/images' )\n",
        "#numImages = getFileCounts('drive/MyDrive/darknet/data/images')\n",
        "#print('Total images : ',numImages)"
      ],
      "execution_count": null,
      "outputs": [
        {
          "name": "stdout",
          "output_type": "stream",
          "text": [
            "/content\n"
          ]
        }
      ]
    }
  ]
}