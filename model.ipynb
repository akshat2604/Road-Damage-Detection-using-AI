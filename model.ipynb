{
  "nbformat": 4,
  "nbformat_minor": 0,
  "metadata": {
    "accelerator": "GPU",
    "colab": {
      "name": "model.ipynb",
      "provenance": [],
      "collapsed_sections": []
    },
    "kernelspec": {
      "display_name": "Python 3",
      "name": "python3"
    },
    "language_info": {
      "name": "python"
    }
  },
  "cells": [
    {
      "cell_type": "code",
      "metadata": {
        "id": "naFVVu3kArRB",
        "colab": {
          "base_uri": "https://localhost:8080/"
        },
        "outputId": "bcd0ee94-0784-4bb5-9811-cf7836e4a314"
      },
      "source": [
        "#mounting drive (if loading locally skip this block and update the next block to move into directory)\n",
        "from google.colab import drive\n",
        "drive.mount('/content/drive')"
      ],
      "execution_count": null,
      "outputs": [
        {
          "output_type": "stream",
          "name": "stdout",
          "text": [
            "Mounted at /content/drive\n"
          ]
        }
      ]
    },
    {
      "cell_type": "code",
      "metadata": {
        "id": "33V-u6XuA4IN",
        "colab": {
          "base_uri": "https://localhost:8080/"
        },
        "outputId": "e27422c9-c674-45c3-ae0e-cf70b5f67e33"
      },
      "source": [
        "#update path\n",
        "%cd /content/drive/MyDrive/yolov5-master/yolov5-master\n"
      ],
      "execution_count": null,
      "outputs": [
        {
          "output_type": "stream",
          "name": "stdout",
          "text": [
            "/content/drive/MyDrive/yolov5-master/yolov5-master\n"
          ]
        }
      ]
    },
    {
      "cell_type": "code",
      "metadata": {
        "id": "HEZ9IgMyBz30"
      },
      "source": [
        "pip install -r requirements.txt"
      ],
      "execution_count": null,
      "outputs": []
    },
    {
      "cell_type": "code",
      "metadata": {
        "id": "xwHEUpdcBAJS",
        "colab": {
          "base_uri": "https://localhost:8080/"
        },
        "outputId": "8dfca30f-fa5f-487a-db1c-4f855fd13999"
      },
      "source": [
        "#training \n",
        "#update the weights path\n",
        "!python train.py --img 608 --epochs 1 --batch 8 --data road.yaml --weights /content/drive/MyDrive/yolov5-master/yolov5-master/yolo5x.pt"
      ],
      "execution_count": null,
      "outputs": [
        {
          "output_type": "stream",
          "name": "stdout",
          "text": [
            "\u001b[34m\u001b[1mtrain: \u001b[0mweights=/content/drive/MyDrive/yolov5-master/yolov5-master/runs/train/exp/weights/final.pt, cfg=, data=road.yaml, hyp=data/hyps/hyp.scratch.yaml, epochs=1, batch_size=8, imgsz=608, rect=False, resume=False, nosave=False, noval=False, noautoanchor=False, evolve=None, bucket=, cache=None, image_weights=False, device=, multi_scale=False, single_cls=False, adam=False, sync_bn=False, workers=8, project=runs/train, name=exp, exist_ok=False, quad=False, linear_lr=False, label_smoothing=0.0, patience=100, freeze=0, save_period=-1, local_rank=-1, entity=None, upload_dataset=False, bbox_interval=-1, artifact_alias=latest\n",
            "\u001b[34m\u001b[1mgithub: \u001b[0mskipping check (not a git repository), for updates see https://github.com/ultralytics/yolov5\n",
            "YOLOv5 🚀 2021-11-6 torch 1.10.0+cu111 CUDA:0 (Tesla K80, 11441MiB)\n",
            "\n",
            "\u001b[34m\u001b[1mhyperparameters: \u001b[0mlr0=0.01, lrf=0.1, momentum=0.937, weight_decay=0.0005, warmup_epochs=3.0, warmup_momentum=0.8, warmup_bias_lr=0.1, box=0.05, cls=0.5, cls_pw=1.0, obj=1.0, obj_pw=1.0, iou_t=0.2, anchor_t=4.0, fl_gamma=0.0, hsv_h=0.015, hsv_s=0.7, hsv_v=0.4, degrees=0.0, translate=0.1, scale=0.5, shear=0.0, perspective=0.0, flipud=0.0, fliplr=0.5, mosaic=1.0, mixup=0.0, copy_paste=0.0\n",
            "\u001b[34m\u001b[1mWeights & Biases: \u001b[0mrun 'pip install wandb' to automatically track and visualize YOLOv5 🚀 runs (RECOMMENDED)\n",
            "\u001b[34m\u001b[1mTensorBoard: \u001b[0mStart with 'tensorboard --logdir runs/train', view at http://localhost:6006/\n",
            "\n",
            "                 from  n    params  module                                  arguments                     \n",
            "  0                -1  1      8800  models.common.Focus                     [3, 80, 3]                    \n",
            "  1                -1  1    115520  models.common.Conv                      [80, 160, 3, 2]               \n",
            "  2                -1  4    315680  models.common.BottleneckCSP             [160, 160, 4]                 \n",
            "  3                -1  1    461440  models.common.Conv                      [160, 320, 3, 2]              \n",
            "  4                -1 12   3311680  models.common.BottleneckCSP             [320, 320, 12]                \n",
            "  5                -1  1   1844480  models.common.Conv                      [320, 640, 3, 2]              \n",
            "  6                -1 12  13228160  models.common.BottleneckCSP             [640, 640, 12]                \n",
            "  7                -1  1   7375360  models.common.Conv                      [640, 1280, 3, 2]             \n",
            "  8                -1  1   4099840  models.common.SPP                       [1280, 1280, [5, 9, 13]]      \n",
            "  9                -1  4  20087040  models.common.BottleneckCSP             [1280, 1280, 4, False]        \n",
            " 10                -1  1    820480  models.common.Conv                      [1280, 640, 1, 1]             \n",
            " 11                -1  1         0  torch.nn.modules.upsampling.Upsample    [None, 2, 'nearest']          \n",
            " 12           [-1, 6]  1         0  models.common.Concat                    [1]                           \n",
            " 13                -1  4   5435520  models.common.BottleneckCSP             [1280, 640, 4, False]         \n",
            " 14                -1  1    205440  models.common.Conv                      [640, 320, 1, 1]              \n",
            " 15                -1  1         0  torch.nn.modules.upsampling.Upsample    [None, 2, 'nearest']          \n",
            " 16           [-1, 4]  1         0  models.common.Concat                    [1]                           \n",
            " 17                -1  4   1360960  models.common.BottleneckCSP             [640, 320, 4, False]          \n",
            " 18                -1  1    922240  models.common.Conv                      [320, 320, 3, 2]              \n",
            " 19          [-1, 14]  1         0  models.common.Concat                    [1]                           \n",
            " 20                -1  4   5025920  models.common.BottleneckCSP             [640, 640, 4, False]          \n",
            " 21                -1  1   3687680  models.common.Conv                      [640, 640, 3, 2]              \n",
            " 22          [-1, 10]  1         0  models.common.Concat                    [1]                           \n",
            " 23                -1  4  20087040  models.common.BottleneckCSP             [1280, 1280, 4, False]        \n",
            " 24      [17, 20, 23]  1     60561  models.yolo.Detect                      [4, [[10, 13, 16, 30, 33, 23], [30, 61, 62, 45, 59, 119], [116, 90, 156, 198, 373, 326]], [320, 640, 1280]]\n",
            "Model Summary: 607 layers, 88453841 parameters, 88453841 gradients\n",
            "\n",
            "Transferred 801/801 items from /content/drive/MyDrive/yolov5-master/yolov5-master/runs/train/exp/weights/final.pt\n",
            "Scaled weight_decay = 0.0005\n",
            "\u001b[34m\u001b[1moptimizer:\u001b[0m SGD with parameter groups 131 weight, 142 weight (no decay), 134 bias\n",
            "\u001b[34m\u001b[1malbumentations: \u001b[0mversion 1.0.3 required by YOLOv5, but version 0.1.12 is currently installed\n",
            "\u001b[34m\u001b[1mtrain: \u001b[0mScanning '../road/labels.cache' images and labels... 9770 found, 0 missing, 0 empty, 0 corrupted: 100% 9770/9770 [00:00<?, ?it/s]\n",
            "\u001b[34m\u001b[1mval: \u001b[0mScanning '../road/valid/labels.cache' images and labels... 2425 found, 0 missing, 0 empty, 0 corrupted: 100% 2425/2425 [00:00<?, ?it/s]\n",
            "Plotting labels... \n",
            "\n",
            "\u001b[34m\u001b[1mautoanchor: \u001b[0mAnalyzing anchors... anchors/target = 4.39, Best Possible Recall (BPR) = 0.9980\n",
            "Image sizes 608 train, 608 val\n",
            "Using 2 dataloader workers\n",
            "Logging results to \u001b[1mruns/train/exp30\u001b[0m\n",
            "Starting training for 1 epochs...\n",
            "\n",
            "     Epoch   gpu_mem       box       obj       cls    labels  img_size\n",
            "       0/0     7.92G    0.0402   0.02025  0.006558         7       608: 100% 1222/1222 [1:45:39<00:00,  5.19s/it]\n",
            "               Class     Images     Labels          P          R     mAP@.5 mAP@.5:.95: 100% 152/152 [09:31<00:00,  3.76s/it]\n",
            "                 all       2425       4710      0.759      0.759      0.802      0.386\n",
            "\n",
            "1 epochs completed in 1.922 hours.\n",
            "Optimizer stripped from runs/train/exp30/weights/last.pt, 177.6MB\n",
            "Optimizer stripped from runs/train/exp30/weights/best.pt, 177.6MB\n",
            "\n",
            "Validating runs/train/exp30/weights/best.pt...\n",
            "Fusing layers... \n",
            "Model Summary: 484 layers, 88410801 parameters, 0 gradients\n",
            "               Class     Images     Labels          P          R     mAP@.5 mAP@.5:.95: 100% 152/152 [08:20<00:00,  3.30s/it]\n",
            "                 all       2425       4710      0.759      0.759      0.802      0.386\n",
            "                 D00       2425       1487       0.79      0.829       0.86      0.439\n",
            "                 D10       2425        748      0.693      0.594      0.663       0.26\n",
            "                 D20       2425       1239      0.832      0.824      0.879      0.474\n",
            "                 D40       2425       1236       0.72      0.788      0.807      0.373\n",
            "Results saved to \u001b[1mruns/train/exp30\u001b[0m\n"
          ]
        }
      ]
    },
    {
      "cell_type": "code",
      "metadata": {
        "id": "44RYO8H63k5x",
        "colab": {
          "base_uri": "https://localhost:8080/"
        },
        "outputId": "cd3fa63a-2765-42d3-c9e7-27b497d2f11e"
      },
      "source": [
        "#testing\n",
        "#change source of image in last argument\n",
        "#update the weight argumnet by latest weight\n",
        "!python detect.py --weights /content/drive/MyDrive/yolov5-master/yolov5-master/runs/train/exp30/weights/best.pt  --conf 0.32 --source /content/drive/MyDrive/yolov5-master/road/images/India_003290.jpg\n",
        "#Japan_009257.jpg\n",
        "#Czech_003003.jpg"
      ],
      "execution_count": null,
      "outputs": [
        {
          "output_type": "stream",
          "name": "stdout",
          "text": [
            "\u001b[34m\u001b[1mdetect: \u001b[0mweights=['/content/drive/MyDrive/yolov5-master/yolov5-master/runs/train/exp30/weights/best.pt'], source=/content/drive/MyDrive/yolov5-master/road/images/India_003290.jpg, imgsz=[640, 640], conf_thres=0.32, iou_thres=0.45, max_det=1000, device=, view_img=False, save_txt=False, save_conf=False, save_crop=False, nosave=False, classes=None, agnostic_nms=False, augment=False, visualize=False, update=False, project=runs/detect, name=exp, exist_ok=False, line_thickness=3, hide_labels=False, hide_conf=False, half=False, dnn=False\n",
            "YOLOv5 🚀 2021-11-6 torch 1.10.0+cu111 CUDA:0 (Tesla K80, 11441MiB)\n",
            "\n",
            "Fusing layers... \n",
            "Model Summary: 484 layers, 88410801 parameters, 0 gradients\n",
            "image 1/1 /content/drive/MyDrive/yolov5-master/road/images/India_003290.jpg: 640x640 2 D00s, Done. (0.271s)\n",
            "Speed: 0.7ms pre-process, 270.7ms inference, 2.4ms NMS per image at shape (1, 3, 640, 640)\n",
            "Results saved to \u001b[1mruns/detect/exp54\u001b[0m\n"
          ]
        }
      ]
    },
    {
      "cell_type": "code",
      "metadata": {
        "id": "WtyTahznIOIQ",
        "colab": {
          "base_uri": "https://localhost:8080/"
        },
        "outputId": "4b58a919-453b-4d7f-9f15-f403aa56f89d"
      },
      "source": [
        "#from utils.plots import plot_results\n",
        "#plot_results('/content/drive/MyDrive/yolov5-master/yolov5-master/runs/train/exp30/results.csv') "
      ],
      "execution_count": null,
      "outputs": [
        {
          "output_type": "stream",
          "name": "stdout",
          "text": [
            "Warning: Plotting error for /content/drive/MyDrive/yolov5-master/yolov5-master/runs/train/exp30/results.csv: index 5 is out of bounds for axis 1 with size 5\n"
          ]
        }
      ]
    }
  ]
}